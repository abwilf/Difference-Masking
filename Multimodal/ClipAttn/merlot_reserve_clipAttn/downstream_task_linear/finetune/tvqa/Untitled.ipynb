{
 "cells": [
  {
   "cell_type": "code",
   "execution_count": 5,
   "id": "cc73b1f4-db8a-45b2-8166-554145a468f8",
   "metadata": {},
   "outputs": [],
   "source": [
    "import os\n",
    "\n",
    "# ckpt_dir = '/home/sakter/results/retrain/out_rerun/base.yaml/tvqa_random_1.0_12_24_0.0_no_proj_run_4'\n",
    "res = (path for path,_,_ in os.walk(\"/home/sakter/results/retrain/out_rerun/base.yaml\") if \"no_proj\" in path)\n",
    "for p in res:\n",
    "    onlyfiles = []\n",
    "    for f in os.listdir(p):\n",
    "        if os.path.isfile(os.path.join(p, f)):\n",
    "            onlyfiles.append(os.path.join(p, f))\n",
    "    assert len(onlyfiles) == 1\n",
    "        \n",
    "# onlyfiles = [os.path.join(p, f) for p in res for f in os.listdir(p) if os.path.isfile(os.path.join(p, f))]\n",
    "# assert len(onlyfiles) == 1\n",
    "# config['_ckpt'] = onlyfiles[0]"
   ]
  },
  {
   "cell_type": "code",
   "execution_count": 2,
   "id": "363a10dd-0cf6-4248-bf57-a19434b6db1f",
   "metadata": {},
   "outputs": [
    {
     "ename": "NameError",
     "evalue": "name 'onlyfiles' is not defined",
     "output_type": "error",
     "traceback": [
      "\u001b[0;31m---------------------------------------------------------------------------\u001b[0m",
      "\u001b[0;31mNameError\u001b[0m                                 Traceback (most recent call last)",
      "Input \u001b[0;32mIn [2]\u001b[0m, in \u001b[0;36m<cell line: 1>\u001b[0;34m()\u001b[0m\n\u001b[0;32m----> 1\u001b[0m \u001b[43monlyfiles\u001b[49m\n",
      "\u001b[0;31mNameError\u001b[0m: name 'onlyfiles' is not defined"
     ]
    }
   ],
   "source": [
    "onlyfiles"
   ]
  },
  {
   "cell_type": "code",
   "execution_count": 13,
   "id": "f1b753e7-5a9d-437d-be29-c0167f59ab24",
   "metadata": {},
   "outputs": [],
   "source": []
  },
  {
   "cell_type": "code",
   "execution_count": 14,
   "id": "272d1c5d-770a-40ae-8b74-d3a2b42404b9",
   "metadata": {},
   "outputs": [
    {
     "name": "stdout",
     "output_type": "stream",
     "text": [
      "/home/sakter/results/retrain/out_rerun/base.yaml/tvqa_random_0.5_12_24_0.0_no_proj_rerun_3\n",
      "/home/sakter/results/retrain/out_rerun/base.yaml/tvqa_random_0.2_12_24_0.0_no_proj_run_4\n",
      "/home/sakter/results/retrain/out_rerun/base.yaml/tvqa_random_0.2_12_24_0.0_no_proj_run_3\n",
      "/home/sakter/results/retrain/out_rerun/base.yaml/tvqa_random_0.5_12_24_0.0_no_proj_rerun_1\n",
      "/home/sakter/results/retrain/out_rerun/base.yaml/tvqa_random_0.1_12_24_0.0_no_proj_run_1\n",
      "/home/sakter/results/retrain/out_rerun/base.yaml/tvqa_random_0.1_12_24_0.0_no_proj_run_2\n",
      "/home/sakter/results/retrain/out_rerun/base.yaml/tvqa_random_0.2_12_24_0.0_no_proj_run_1\n",
      "/home/sakter/results/retrain/out_rerun/base.yaml/tvqa_random_0.3_12_24_0.0_no_proj_run_1\n",
      "/home/sakter/results/retrain/out_rerun/base.yaml/tvqa_random_0.3_12_24_0.0_no_proj_run_3\n",
      "/home/sakter/results/retrain/out_rerun/base.yaml/tvqa_random_1.0_12_24_0.0_no_proj_run_1\n",
      "/home/sakter/results/retrain/out_rerun/base.yaml/tvqa_random_0.2_12_24_0.0_no_proj_run_2\n",
      "/home/sakter/results/retrain/out_rerun/base.yaml/tvqa_random_0.5_12_24_0.0_no_proj_run_1\n",
      "/home/sakter/results/retrain/out_rerun/base.yaml/tvqa_random_0.3_12_24_0.0_no_proj_run_2\n",
      "/home/sakter/results/retrain/out_rerun/base.yaml/tvqa_random_0.5_12_24_0.0_no_proj_run_4\n",
      "/home/sakter/results/retrain/out_rerun/base.yaml/tvqa_random_0.5_12_24_0.0_no_proj_run_2\n",
      "/home/sakter/results/retrain/out_rerun/base.yaml/tvqa_random_0.3_12_24_0.0_no_proj_run_4\n",
      "/home/sakter/results/retrain/out_rerun/base.yaml/tvqa_random_1.0_12_24_0.0_no_proj_run_2\n",
      "/home/sakter/results/retrain/out_rerun/base.yaml/tvqa_random_0.1_12_24_0.0_no_proj_run_4\n",
      "/home/sakter/results/retrain/out_rerun/base.yaml/tvqa_random_0.5_12_24_0.0_no_proj_run_3\n",
      "/home/sakter/results/retrain/out_rerun/base.yaml/tvqa_random_0.1_12_24_0.0_no_proj_run_3\n",
      "/home/sakter/results/retrain/out_rerun/base.yaml/tvqa_random_1.0_12_24_0.0_no_proj_run_3\n",
      "/home/sakter/results/retrain/out_rerun/base.yaml/tvqa_random_1.0_12_24_0.0_no_proj_run_4\n"
     ]
    }
   ],
   "source": [
    "for path in res:\n",
    "    print(path)"
   ]
  },
  {
   "cell_type": "code",
   "execution_count": null,
   "id": "72407491-acfc-412a-843e-b1d3a52bcf50",
   "metadata": {},
   "outputs": [],
   "source": []
  }
 ],
 "metadata": {
  "kernelspec": {
   "display_name": "Python 3 (ipykernel)",
   "language": "python",
   "name": "python3"
  },
  "language_info": {
   "codemirror_mode": {
    "name": "ipython",
    "version": 3
   },
   "file_extension": ".py",
   "mimetype": "text/x-python",
   "name": "python",
   "nbconvert_exporter": "python",
   "pygments_lexer": "ipython3",
   "version": "3.9.12"
  }
 },
 "nbformat": 4,
 "nbformat_minor": 5
}
